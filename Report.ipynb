{
 "cells": [
  {
   "cell_type": "markdown",
   "metadata": {},
   "source": [
    "# Loading Document Politics One"
   ]
  },
  {
   "cell_type": "code",
   "execution_count": 1,
   "metadata": {},
   "outputs": [
    {
     "data": {
      "text/plain": [
       "664"
      ]
     },
     "execution_count": 1,
     "metadata": {},
     "output_type": "execute_result"
    }
   ],
   "source": [
    "import re\n",
    "\n",
    "#opening the file\n",
    "file = open('politics_one.txt', 'r')\n",
    "\n",
    "#reading the file contents\n",
    "file_read = file.read()\n",
    "\n",
    "#splitting the contents on spaces\n",
    "word_list = file_read.split()\n",
    "\n",
    "#closing the file\n",
    "file.close()\n",
    "\n",
    "politics_one_words = list()\n",
    "\n",
    "for word in word_list:\n",
    "    \n",
    "    #cleaning the special characters in each word\n",
    "    word = re.sub('\\W+','', word)\n",
    "    \n",
    "    if word not in politics_one_words:\n",
    "        \n",
    "        #appending unique words to a list\n",
    "        politics_one_words.append(word)\n",
    "        \n",
    "len(politics_one_words)"
   ]
  },
  {
   "cell_type": "markdown",
   "metadata": {},
   "source": [
    "# Loading Document Politics Two"
   ]
  },
  {
   "cell_type": "code",
   "execution_count": 2,
   "metadata": {},
   "outputs": [
    {
     "data": {
      "text/plain": [
       "489"
      ]
     },
     "execution_count": 2,
     "metadata": {},
     "output_type": "execute_result"
    }
   ],
   "source": [
    "file = open('politics_two.txt', 'r')\n",
    "\n",
    "file_read = file.read()\n",
    "word_list = file_read.split()\n",
    "\n",
    "file.close()\n",
    "\n",
    "politics_two_words = list()\n",
    "\n",
    "for word in word_list:\n",
    "    \n",
    "    word = re.sub('\\W+','', word)\n",
    "    \n",
    "    if word not in politics_two_words:\n",
    "        politics_two_words.append(word)\n",
    "        \n",
    "len(politics_two_words)"
   ]
  },
  {
   "cell_type": "markdown",
   "metadata": {},
   "source": [
    "# Loading Document Shooting One"
   ]
  },
  {
   "cell_type": "code",
   "execution_count": 3,
   "metadata": {},
   "outputs": [
    {
     "data": {
      "text/plain": [
       "246"
      ]
     },
     "execution_count": 3,
     "metadata": {},
     "output_type": "execute_result"
    }
   ],
   "source": [
    "file = open('shooting_one.txt', 'r')\n",
    "\n",
    "file_read = file.read()\n",
    "word_list = file_read.split()\n",
    "\n",
    "file.close()\n",
    "\n",
    "shooting_one_words = list()\n",
    "\n",
    "for word in word_list:\n",
    "    \n",
    "    word = re.sub('\\W+','', word)\n",
    "    \n",
    "    if word not in shooting_one_words:\n",
    "        shooting_one_words.append(word)\n",
    "        \n",
    "len(shooting_one_words)"
   ]
  },
  {
   "cell_type": "markdown",
   "metadata": {},
   "source": [
    "# Loading Document Shooting Two"
   ]
  },
  {
   "cell_type": "code",
   "execution_count": 4,
   "metadata": {},
   "outputs": [
    {
     "data": {
      "text/plain": [
       "305"
      ]
     },
     "execution_count": 4,
     "metadata": {},
     "output_type": "execute_result"
    }
   ],
   "source": [
    "file = open('shooting_two.txt', 'r')\n",
    "\n",
    "file_read = file.read()\n",
    "word_list = file_read.split()\n",
    "\n",
    "file.close()\n",
    "\n",
    "shooting_two_words = list()\n",
    "\n",
    "for word in word_list:\n",
    "    \n",
    "    word = re.sub('\\W+','', word)\n",
    "    \n",
    "    if word not in shooting_two_words:\n",
    "        shooting_two_words.append(word)\n",
    "        \n",
    "len(shooting_two_words)"
   ]
  },
  {
   "cell_type": "markdown",
   "metadata": {},
   "source": [
    "# Loading Document Shooting Three"
   ]
  },
  {
   "cell_type": "code",
   "execution_count": 5,
   "metadata": {},
   "outputs": [
    {
     "data": {
      "text/plain": [
       "223"
      ]
     },
     "execution_count": 5,
     "metadata": {},
     "output_type": "execute_result"
    }
   ],
   "source": [
    "file = open('shooting_three.txt', 'r')\n",
    "\n",
    "file_read = file.read()\n",
    "word_list = file_read.split()\n",
    "\n",
    "file.close()\n",
    "shooting_three_words = list()\n",
    "\n",
    "\n",
    "for word in word_list:\n",
    "    \n",
    "    word = re.sub('\\W+','', word)\n",
    "    \n",
    "    if word not in shooting_three_words:\n",
    "        shooting_three_words.append(word)\n",
    "        \n",
    "len(shooting_three_words)"
   ]
  },
  {
   "cell_type": "markdown",
   "metadata": {},
   "source": [
    "# Taking Union of All the Unique word lists from all the documents"
   ]
  },
  {
   "cell_type": "code",
   "execution_count": 6,
   "metadata": {},
   "outputs": [],
   "source": [
    "#forming a list of words that contains all of the unique words in all documents\n",
    "final_word_list = list(set().union(politics_one_words, politics_two_words, shooting_one_words, shooting_two_words,\n",
    "                                   shooting_three_words))"
   ]
  },
  {
   "cell_type": "code",
   "execution_count": 7,
   "metadata": {},
   "outputs": [
    {
     "data": {
      "text/plain": [
       "1422"
      ]
     },
     "execution_count": 7,
     "metadata": {},
     "output_type": "execute_result"
    }
   ],
   "source": [
    "len(final_word_list)"
   ]
  },
  {
   "cell_type": "code",
   "execution_count": 8,
   "metadata": {},
   "outputs": [],
   "source": [
    "#sorting the words\n",
    "final_word_list = sorted(final_word_list)"
   ]
  },
  {
   "cell_type": "markdown",
   "metadata": {},
   "source": [
    "# Calculating Term Frequency"
   ]
  },
  {
   "cell_type": "code",
   "execution_count": 9,
   "metadata": {},
   "outputs": [
    {
     "data": {
      "text/plain": [
       "1422"
      ]
     },
     "execution_count": 9,
     "metadata": {},
     "output_type": "execute_result"
    }
   ],
   "source": [
    "'''\n",
    "    Politics One\n",
    "    \n",
    "'''\n",
    "\n",
    "file = open('politics_one.txt', 'r')\n",
    "\n",
    "file_read = file.read()\n",
    "word_list = file_read.split()\n",
    "\n",
    "file.close()\n",
    "\n",
    "tf_politics_one = list()\n",
    "\n",
    "#calculating the number of times each word appears in a document\n",
    "for word in final_word_list:\n",
    "    count = 0\n",
    "    \n",
    "    for word_two in word_list:\n",
    "        \n",
    "        if word == word_two:\n",
    "            count += 1\n",
    "    \n",
    "    tf_politics_one.append(count) \n",
    "        \n",
    "len(tf_politics_one)"
   ]
  },
  {
   "cell_type": "code",
   "execution_count": 10,
   "metadata": {},
   "outputs": [
    {
     "data": {
      "text/plain": [
       "1422"
      ]
     },
     "execution_count": 10,
     "metadata": {},
     "output_type": "execute_result"
    }
   ],
   "source": [
    "'''\n",
    "    Politics Two\n",
    "    \n",
    "'''\n",
    "\n",
    "file = open('politics_two.txt', 'r')\n",
    "\n",
    "file_read = file.read()\n",
    "word_list = file_read.split()\n",
    "\n",
    "file.close()\n",
    "\n",
    "tf_politics_two = list()\n",
    "\n",
    "for word in final_word_list:\n",
    "    count = 0\n",
    "    for word_two in word_list:\n",
    "        \n",
    "        if word == word_two:\n",
    "            count += 1\n",
    "    \n",
    "    tf_politics_two.append(count) \n",
    "        \n",
    "len(tf_politics_two)"
   ]
  },
  {
   "cell_type": "code",
   "execution_count": 11,
   "metadata": {},
   "outputs": [
    {
     "data": {
      "text/plain": [
       "1422"
      ]
     },
     "execution_count": 11,
     "metadata": {},
     "output_type": "execute_result"
    }
   ],
   "source": [
    "'''\n",
    "    Shooting One\n",
    "    \n",
    "'''\n",
    "\n",
    "file = open('shooting_one.txt', 'r')\n",
    "\n",
    "file_read = file.read()\n",
    "word_list = file_read.split()\n",
    "\n",
    "file.close()\n",
    "\n",
    "tf_shooting_one = list()\n",
    "\n",
    "for word in final_word_list:\n",
    "    count = 0\n",
    "    for word_two in word_list:\n",
    "        \n",
    "        if word == word_two:\n",
    "            count += 1\n",
    "    \n",
    "    tf_shooting_one.append(count) \n",
    "        \n",
    "len(tf_shooting_one)"
   ]
  },
  {
   "cell_type": "code",
   "execution_count": 12,
   "metadata": {},
   "outputs": [
    {
     "data": {
      "text/plain": [
       "1422"
      ]
     },
     "execution_count": 12,
     "metadata": {},
     "output_type": "execute_result"
    }
   ],
   "source": [
    "'''\n",
    "    Shooting Two\n",
    "    \n",
    "'''\n",
    "\n",
    "file = open('shooting_two.txt', 'r')\n",
    "\n",
    "file_read = file.read()\n",
    "word_list = file_read.split()\n",
    "\n",
    "file.close()\n",
    "\n",
    "tf_shooting_two = list()\n",
    "\n",
    "for word in final_word_list:\n",
    "    count = 0\n",
    "    for word_two in word_list:\n",
    "        \n",
    "        if word == word_two:\n",
    "            count += 1\n",
    "    \n",
    "    tf_shooting_two.append(count) \n",
    "        \n",
    "len(tf_shooting_two)"
   ]
  },
  {
   "cell_type": "code",
   "execution_count": 13,
   "metadata": {},
   "outputs": [
    {
     "data": {
      "text/plain": [
       "1422"
      ]
     },
     "execution_count": 13,
     "metadata": {},
     "output_type": "execute_result"
    }
   ],
   "source": [
    "'''\n",
    "    Shooting Three\n",
    "    \n",
    "'''\n",
    "\n",
    "file = open('shooting_three.txt', 'r')\n",
    "\n",
    "file_read = file.read()\n",
    "word_list = file_read.split()\n",
    "\n",
    "file.close()\n",
    "\n",
    "tf_shooting_three = list()\n",
    "\n",
    "for word in final_word_list:\n",
    "    count = 0\n",
    "    for word_two in word_list:\n",
    "        \n",
    "        if word == word_two:\n",
    "            count += 1\n",
    "    \n",
    "    tf_shooting_three.append(count) \n",
    "        \n",
    "len(tf_shooting_three)"
   ]
  },
  {
   "cell_type": "markdown",
   "metadata": {},
   "source": [
    "# Calculating Inverse Document Frequency"
   ]
  },
  {
   "cell_type": "code",
   "execution_count": 14,
   "metadata": {},
   "outputs": [],
   "source": [
    "import math\n",
    "\n",
    "idf_words = list()\n",
    "\n",
    "#calculating the number of documents in which each word appears\n",
    "for word in final_word_list:\n",
    "    count = 0\n",
    "    \n",
    "    if word in politics_one_words:\n",
    "          count += 1\n",
    "    \n",
    "    if word in politics_two_words:\n",
    "          count += 1\n",
    "    \n",
    "    if word in shooting_one_words:\n",
    "          count += 1\n",
    "            \n",
    "    if word in shooting_two_words:\n",
    "          count += 1\n",
    "            \n",
    "    if word in shooting_three_words:\n",
    "          count += 1\n",
    "    \n",
    "    '''\n",
    "        calculating 'log(N/D)' of each word,\n",
    "        where, 'D' is the number of documents in which each word appears\n",
    "        and, 'N' is the total number of documents\n",
    "    '''\n",
    "    idf_words.append(math.log(5/count))\n",
    "    "
   ]
  },
  {
   "cell_type": "markdown",
   "metadata": {},
   "source": [
    "# Calculating TF-IDF of Each Document"
   ]
  },
  {
   "cell_type": "code",
   "execution_count": 15,
   "metadata": {},
   "outputs": [],
   "source": [
    "p1_tf_idf = list()\n",
    "p2_tf_idf = list()\n",
    "s1_tf_idf = list()\n",
    "s2_tf_idf = list()\n",
    "s3_tf_idf = list()\n",
    "\n",
    "#finally multiplyinh tf with idf\n",
    "for i in range(len(final_word_list)):\n",
    "    \n",
    "    p1_tf_idf.append(tf_politics_one[i] * idf_words[i])\n",
    "    \n",
    "    p2_tf_idf.append(tf_politics_two[i] * idf_words[i])\n",
    "    \n",
    "    s1_tf_idf.append(tf_shooting_one[i] * idf_words[i]) \n",
    "    \n",
    "    s2_tf_idf.append(tf_shooting_two[i] * idf_words[i]) \n",
    "    \n",
    "    s3_tf_idf.append(tf_shooting_three[i] * idf_words[i]) "
   ]
  },
  {
   "cell_type": "markdown",
   "metadata": {},
   "source": [
    "# Creating a Table for Visualization"
   ]
  },
  {
   "cell_type": "code",
   "execution_count": 16,
   "metadata": {},
   "outputs": [],
   "source": [
    "import pandas as pd\n",
    "\n",
    "#creating a dataframe/table with all the words as columns\n",
    "df = pd.DataFrame(columns = final_word_list)"
   ]
  },
  {
   "cell_type": "code",
   "execution_count": 17,
   "metadata": {},
   "outputs": [],
   "source": [
    "list_of_series = [pd.Series(p1_tf_idf, index = df.columns),\n",
    "               pd.Series(p2_tf_idf, index = df.columns),\n",
    "               pd.Series(s1_tf_idf, index = df.columns),\n",
    "               pd.Series(s2_tf_idf, index = df.columns),\n",
    "               pd.Series(s3_tf_idf, index = df.columns)]\n",
    "\n",
    "#filling the table with the tf-idf of each word for each document\n",
    "df = df.append(list_of_series)"
   ]
  },
  {
   "cell_type": "code",
   "execution_count": 18,
   "metadata": {},
   "outputs": [
    {
     "data": {
      "text/html": [
       "<div>\n",
       "<style scoped>\n",
       "    .dataframe tbody tr th:only-of-type {\n",
       "        vertical-align: middle;\n",
       "    }\n",
       "\n",
       "    .dataframe tbody tr th {\n",
       "        vertical-align: top;\n",
       "    }\n",
       "\n",
       "    .dataframe thead th {\n",
       "        text-align: right;\n",
       "    }\n",
       "</style>\n",
       "<table border=\"1\" class=\"dataframe\">\n",
       "  <thead>\n",
       "    <tr style=\"text-align: right;\">\n",
       "      <th></th>\n",
       "      <th></th>\n",
       "      <th>1</th>\n",
       "      <th>10</th>\n",
       "      <th>100</th>\n",
       "      <th>11</th>\n",
       "      <th>12</th>\n",
       "      <th>15</th>\n",
       "      <th>17</th>\n",
       "      <th>18</th>\n",
       "      <th>1986</th>\n",
       "      <th>...</th>\n",
       "      <th>would</th>\n",
       "      <th>wouldnt</th>\n",
       "      <th>wounded</th>\n",
       "      <th>wrote</th>\n",
       "      <th>year</th>\n",
       "      <th>years</th>\n",
       "      <th>yet</th>\n",
       "      <th>you</th>\n",
       "      <th>your</th>\n",
       "      <th>yourself</th>\n",
       "    </tr>\n",
       "  </thead>\n",
       "  <tbody>\n",
       "    <tr>\n",
       "      <th>0</th>\n",
       "      <td>0.0</td>\n",
       "      <td>0.000000</td>\n",
       "      <td>0.000000</td>\n",
       "      <td>0.000000</td>\n",
       "      <td>0.0</td>\n",
       "      <td>0.000000</td>\n",
       "      <td>0.000000</td>\n",
       "      <td>0.916291</td>\n",
       "      <td>0.000000</td>\n",
       "      <td>0.0</td>\n",
       "      <td>...</td>\n",
       "      <td>1.021651</td>\n",
       "      <td>0.0</td>\n",
       "      <td>0.000000</td>\n",
       "      <td>0.000000</td>\n",
       "      <td>3.064954</td>\n",
       "      <td>0.000000</td>\n",
       "      <td>0.000000</td>\n",
       "      <td>0.223144</td>\n",
       "      <td>0.916291</td>\n",
       "      <td>0.000000</td>\n",
       "    </tr>\n",
       "    <tr>\n",
       "      <th>1</th>\n",
       "      <td>0.0</td>\n",
       "      <td>0.000000</td>\n",
       "      <td>4.828314</td>\n",
       "      <td>0.000000</td>\n",
       "      <td>0.0</td>\n",
       "      <td>0.000000</td>\n",
       "      <td>0.000000</td>\n",
       "      <td>0.000000</td>\n",
       "      <td>0.000000</td>\n",
       "      <td>0.0</td>\n",
       "      <td>...</td>\n",
       "      <td>1.532477</td>\n",
       "      <td>0.0</td>\n",
       "      <td>0.000000</td>\n",
       "      <td>1.609438</td>\n",
       "      <td>0.000000</td>\n",
       "      <td>0.510826</td>\n",
       "      <td>0.000000</td>\n",
       "      <td>0.223144</td>\n",
       "      <td>0.000000</td>\n",
       "      <td>0.000000</td>\n",
       "    </tr>\n",
       "    <tr>\n",
       "      <th>2</th>\n",
       "      <td>0.0</td>\n",
       "      <td>0.000000</td>\n",
       "      <td>0.000000</td>\n",
       "      <td>0.000000</td>\n",
       "      <td>0.0</td>\n",
       "      <td>1.609438</td>\n",
       "      <td>1.609438</td>\n",
       "      <td>0.000000</td>\n",
       "      <td>0.000000</td>\n",
       "      <td>0.0</td>\n",
       "      <td>...</td>\n",
       "      <td>0.510826</td>\n",
       "      <td>0.0</td>\n",
       "      <td>0.916291</td>\n",
       "      <td>0.000000</td>\n",
       "      <td>0.000000</td>\n",
       "      <td>0.510826</td>\n",
       "      <td>0.000000</td>\n",
       "      <td>0.000000</td>\n",
       "      <td>0.000000</td>\n",
       "      <td>0.000000</td>\n",
       "    </tr>\n",
       "    <tr>\n",
       "      <th>3</th>\n",
       "      <td>0.0</td>\n",
       "      <td>1.609438</td>\n",
       "      <td>0.000000</td>\n",
       "      <td>0.916291</td>\n",
       "      <td>0.0</td>\n",
       "      <td>0.000000</td>\n",
       "      <td>0.000000</td>\n",
       "      <td>0.000000</td>\n",
       "      <td>0.000000</td>\n",
       "      <td>0.0</td>\n",
       "      <td>...</td>\n",
       "      <td>0.000000</td>\n",
       "      <td>0.0</td>\n",
       "      <td>0.916291</td>\n",
       "      <td>0.000000</td>\n",
       "      <td>0.000000</td>\n",
       "      <td>0.000000</td>\n",
       "      <td>0.916291</td>\n",
       "      <td>0.223144</td>\n",
       "      <td>0.000000</td>\n",
       "      <td>1.609438</td>\n",
       "    </tr>\n",
       "    <tr>\n",
       "      <th>4</th>\n",
       "      <td>0.0</td>\n",
       "      <td>0.000000</td>\n",
       "      <td>0.000000</td>\n",
       "      <td>0.000000</td>\n",
       "      <td>0.0</td>\n",
       "      <td>0.000000</td>\n",
       "      <td>0.000000</td>\n",
       "      <td>2.748872</td>\n",
       "      <td>1.609438</td>\n",
       "      <td>0.0</td>\n",
       "      <td>...</td>\n",
       "      <td>0.000000</td>\n",
       "      <td>0.0</td>\n",
       "      <td>0.000000</td>\n",
       "      <td>0.000000</td>\n",
       "      <td>0.510826</td>\n",
       "      <td>0.000000</td>\n",
       "      <td>0.000000</td>\n",
       "      <td>0.223144</td>\n",
       "      <td>0.916291</td>\n",
       "      <td>0.000000</td>\n",
       "    </tr>\n",
       "  </tbody>\n",
       "</table>\n",
       "<p>5 rows × 1422 columns</p>\n",
       "</div>"
      ],
      "text/plain": [
       "               1        10       100   11        12        15        17  \\\n",
       "0  0.0  0.000000  0.000000  0.000000  0.0  0.000000  0.000000  0.916291   \n",
       "1  0.0  0.000000  4.828314  0.000000  0.0  0.000000  0.000000  0.000000   \n",
       "2  0.0  0.000000  0.000000  0.000000  0.0  1.609438  1.609438  0.000000   \n",
       "3  0.0  1.609438  0.000000  0.916291  0.0  0.000000  0.000000  0.000000   \n",
       "4  0.0  0.000000  0.000000  0.000000  0.0  0.000000  0.000000  2.748872   \n",
       "\n",
       "         18  1986    ...        would  wouldnt   wounded     wrote      year  \\\n",
       "0  0.000000   0.0    ...     1.021651      0.0  0.000000  0.000000  3.064954   \n",
       "1  0.000000   0.0    ...     1.532477      0.0  0.000000  1.609438  0.000000   \n",
       "2  0.000000   0.0    ...     0.510826      0.0  0.916291  0.000000  0.000000   \n",
       "3  0.000000   0.0    ...     0.000000      0.0  0.916291  0.000000  0.000000   \n",
       "4  1.609438   0.0    ...     0.000000      0.0  0.000000  0.000000  0.510826   \n",
       "\n",
       "      years       yet       you      your  yourself  \n",
       "0  0.000000  0.000000  0.223144  0.916291  0.000000  \n",
       "1  0.510826  0.000000  0.223144  0.000000  0.000000  \n",
       "2  0.510826  0.000000  0.000000  0.000000  0.000000  \n",
       "3  0.000000  0.916291  0.223144  0.000000  1.609438  \n",
       "4  0.000000  0.000000  0.223144  0.916291  0.000000  \n",
       "\n",
       "[5 rows x 1422 columns]"
      ]
     },
     "execution_count": 18,
     "metadata": {},
     "output_type": "execute_result"
    }
   ],
   "source": [
    "df"
   ]
  },
  {
   "cell_type": "code",
   "execution_count": 19,
   "metadata": {},
   "outputs": [],
   "source": [
    "df.insert(0, 'Documents', ['Politics One', 'Politics Two', 'Shooting One', 'Shooting Two', 'Shooting Three' ])"
   ]
  },
  {
   "cell_type": "code",
   "execution_count": 20,
   "metadata": {},
   "outputs": [
    {
     "data": {
      "text/html": [
       "<div>\n",
       "<style scoped>\n",
       "    .dataframe tbody tr th:only-of-type {\n",
       "        vertical-align: middle;\n",
       "    }\n",
       "\n",
       "    .dataframe tbody tr th {\n",
       "        vertical-align: top;\n",
       "    }\n",
       "\n",
       "    .dataframe thead th {\n",
       "        text-align: right;\n",
       "    }\n",
       "</style>\n",
       "<table border=\"1\" class=\"dataframe\">\n",
       "  <thead>\n",
       "    <tr style=\"text-align: right;\">\n",
       "      <th></th>\n",
       "      <th>Documents</th>\n",
       "      <th></th>\n",
       "      <th>1</th>\n",
       "      <th>10</th>\n",
       "      <th>100</th>\n",
       "      <th>11</th>\n",
       "      <th>12</th>\n",
       "      <th>15</th>\n",
       "      <th>17</th>\n",
       "      <th>18</th>\n",
       "      <th>...</th>\n",
       "      <th>would</th>\n",
       "      <th>wouldnt</th>\n",
       "      <th>wounded</th>\n",
       "      <th>wrote</th>\n",
       "      <th>year</th>\n",
       "      <th>years</th>\n",
       "      <th>yet</th>\n",
       "      <th>you</th>\n",
       "      <th>your</th>\n",
       "      <th>yourself</th>\n",
       "    </tr>\n",
       "  </thead>\n",
       "  <tbody>\n",
       "    <tr>\n",
       "      <th>0</th>\n",
       "      <td>Politics One</td>\n",
       "      <td>0.0</td>\n",
       "      <td>0.000000</td>\n",
       "      <td>0.000000</td>\n",
       "      <td>0.000000</td>\n",
       "      <td>0.0</td>\n",
       "      <td>0.000000</td>\n",
       "      <td>0.000000</td>\n",
       "      <td>0.916291</td>\n",
       "      <td>0.000000</td>\n",
       "      <td>...</td>\n",
       "      <td>1.021651</td>\n",
       "      <td>0.0</td>\n",
       "      <td>0.000000</td>\n",
       "      <td>0.000000</td>\n",
       "      <td>3.064954</td>\n",
       "      <td>0.000000</td>\n",
       "      <td>0.000000</td>\n",
       "      <td>0.223144</td>\n",
       "      <td>0.916291</td>\n",
       "      <td>0.000000</td>\n",
       "    </tr>\n",
       "    <tr>\n",
       "      <th>1</th>\n",
       "      <td>Politics Two</td>\n",
       "      <td>0.0</td>\n",
       "      <td>0.000000</td>\n",
       "      <td>4.828314</td>\n",
       "      <td>0.000000</td>\n",
       "      <td>0.0</td>\n",
       "      <td>0.000000</td>\n",
       "      <td>0.000000</td>\n",
       "      <td>0.000000</td>\n",
       "      <td>0.000000</td>\n",
       "      <td>...</td>\n",
       "      <td>1.532477</td>\n",
       "      <td>0.0</td>\n",
       "      <td>0.000000</td>\n",
       "      <td>1.609438</td>\n",
       "      <td>0.000000</td>\n",
       "      <td>0.510826</td>\n",
       "      <td>0.000000</td>\n",
       "      <td>0.223144</td>\n",
       "      <td>0.000000</td>\n",
       "      <td>0.000000</td>\n",
       "    </tr>\n",
       "    <tr>\n",
       "      <th>2</th>\n",
       "      <td>Shooting One</td>\n",
       "      <td>0.0</td>\n",
       "      <td>0.000000</td>\n",
       "      <td>0.000000</td>\n",
       "      <td>0.000000</td>\n",
       "      <td>0.0</td>\n",
       "      <td>1.609438</td>\n",
       "      <td>1.609438</td>\n",
       "      <td>0.000000</td>\n",
       "      <td>0.000000</td>\n",
       "      <td>...</td>\n",
       "      <td>0.510826</td>\n",
       "      <td>0.0</td>\n",
       "      <td>0.916291</td>\n",
       "      <td>0.000000</td>\n",
       "      <td>0.000000</td>\n",
       "      <td>0.510826</td>\n",
       "      <td>0.000000</td>\n",
       "      <td>0.000000</td>\n",
       "      <td>0.000000</td>\n",
       "      <td>0.000000</td>\n",
       "    </tr>\n",
       "    <tr>\n",
       "      <th>3</th>\n",
       "      <td>Shooting Two</td>\n",
       "      <td>0.0</td>\n",
       "      <td>1.609438</td>\n",
       "      <td>0.000000</td>\n",
       "      <td>0.916291</td>\n",
       "      <td>0.0</td>\n",
       "      <td>0.000000</td>\n",
       "      <td>0.000000</td>\n",
       "      <td>0.000000</td>\n",
       "      <td>0.000000</td>\n",
       "      <td>...</td>\n",
       "      <td>0.000000</td>\n",
       "      <td>0.0</td>\n",
       "      <td>0.916291</td>\n",
       "      <td>0.000000</td>\n",
       "      <td>0.000000</td>\n",
       "      <td>0.000000</td>\n",
       "      <td>0.916291</td>\n",
       "      <td>0.223144</td>\n",
       "      <td>0.000000</td>\n",
       "      <td>1.609438</td>\n",
       "    </tr>\n",
       "    <tr>\n",
       "      <th>4</th>\n",
       "      <td>Shooting Three</td>\n",
       "      <td>0.0</td>\n",
       "      <td>0.000000</td>\n",
       "      <td>0.000000</td>\n",
       "      <td>0.000000</td>\n",
       "      <td>0.0</td>\n",
       "      <td>0.000000</td>\n",
       "      <td>0.000000</td>\n",
       "      <td>2.748872</td>\n",
       "      <td>1.609438</td>\n",
       "      <td>...</td>\n",
       "      <td>0.000000</td>\n",
       "      <td>0.0</td>\n",
       "      <td>0.000000</td>\n",
       "      <td>0.000000</td>\n",
       "      <td>0.510826</td>\n",
       "      <td>0.000000</td>\n",
       "      <td>0.000000</td>\n",
       "      <td>0.223144</td>\n",
       "      <td>0.916291</td>\n",
       "      <td>0.000000</td>\n",
       "    </tr>\n",
       "  </tbody>\n",
       "</table>\n",
       "<p>5 rows × 1423 columns</p>\n",
       "</div>"
      ],
      "text/plain": [
       "        Documents              1        10       100   11        12        15  \\\n",
       "0    Politics One  0.0  0.000000  0.000000  0.000000  0.0  0.000000  0.000000   \n",
       "1    Politics Two  0.0  0.000000  4.828314  0.000000  0.0  0.000000  0.000000   \n",
       "2    Shooting One  0.0  0.000000  0.000000  0.000000  0.0  1.609438  1.609438   \n",
       "3    Shooting Two  0.0  1.609438  0.000000  0.916291  0.0  0.000000  0.000000   \n",
       "4  Shooting Three  0.0  0.000000  0.000000  0.000000  0.0  0.000000  0.000000   \n",
       "\n",
       "         17        18    ...        would  wouldnt   wounded     wrote  \\\n",
       "0  0.916291  0.000000    ...     1.021651      0.0  0.000000  0.000000   \n",
       "1  0.000000  0.000000    ...     1.532477      0.0  0.000000  1.609438   \n",
       "2  0.000000  0.000000    ...     0.510826      0.0  0.916291  0.000000   \n",
       "3  0.000000  0.000000    ...     0.000000      0.0  0.916291  0.000000   \n",
       "4  2.748872  1.609438    ...     0.000000      0.0  0.000000  0.000000   \n",
       "\n",
       "       year     years       yet       you      your  yourself  \n",
       "0  3.064954  0.000000  0.000000  0.223144  0.916291  0.000000  \n",
       "1  0.000000  0.510826  0.000000  0.223144  0.000000  0.000000  \n",
       "2  0.000000  0.510826  0.000000  0.000000  0.000000  0.000000  \n",
       "3  0.000000  0.000000  0.916291  0.223144  0.000000  1.609438  \n",
       "4  0.510826  0.000000  0.000000  0.223144  0.916291  0.000000  \n",
       "\n",
       "[5 rows x 1423 columns]"
      ]
     },
     "execution_count": 20,
     "metadata": {},
     "output_type": "execute_result"
    }
   ],
   "source": [
    "df"
   ]
  },
  {
   "cell_type": "markdown",
   "metadata": {},
   "source": [
    "# Applying 1-NN and 2-NN"
   ]
  },
  {
   "cell_type": "code",
   "execution_count": 21,
   "metadata": {},
   "outputs": [],
   "source": [
    "p1_distance = 0\n",
    "p2_distance = 0\n",
    "s1_distance = 0\n",
    "s2_distance = 0\n",
    "\n",
    "for i in range(len(final_word_list)):\n",
    "    \n",
    "    #taking euclidean distance between Shooting Three and the rest of the Documents\n",
    "    p1_distance += math.pow((s3_tf_idf[i] - p1_tf_idf[i]), 2)\n",
    "    \n",
    "    p2_distance += math.pow((s3_tf_idf[i] - p2_tf_idf[i]), 2)\n",
    "    \n",
    "    s1_distance += math.pow((s3_tf_idf[i] - s1_tf_idf[i]), 2)\n",
    "    \n",
    "    s2_distance += math.pow((s3_tf_idf[i] - s2_tf_idf[i]), 2)"
   ]
  },
  {
   "cell_type": "code",
   "execution_count": 22,
   "metadata": {},
   "outputs": [],
   "source": [
    "#square root the final answers as per euclidean distance formula\n",
    "p1_distance = math.sqrt(p1_distance)\n",
    "p2_distance = math.sqrt(p2_distance)\n",
    "s1_distance = math.sqrt(s1_distance)\n",
    "s2_distance = math.sqrt(s2_distance)"
   ]
  },
  {
   "cell_type": "code",
   "execution_count": 23,
   "metadata": {},
   "outputs": [
    {
     "data": {
      "text/plain": [
       "62.959298829827674"
      ]
     },
     "execution_count": 23,
     "metadata": {},
     "output_type": "execute_result"
    }
   ],
   "source": [
    "#distance of Shooting Three document with Politics One\n",
    "p1_distance"
   ]
  },
  {
   "cell_type": "code",
   "execution_count": 24,
   "metadata": {},
   "outputs": [
    {
     "data": {
      "text/plain": [
       "52.924533371681"
      ]
     },
     "execution_count": 24,
     "metadata": {},
     "output_type": "execute_result"
    }
   ],
   "source": [
    "#distance of Shooting Three document with Politics Two\n",
    "p2_distance"
   ]
  },
  {
   "cell_type": "code",
   "execution_count": 25,
   "metadata": {},
   "outputs": [
    {
     "data": {
      "text/plain": [
       "34.057206735413835"
      ]
     },
     "execution_count": 25,
     "metadata": {},
     "output_type": "execute_result"
    }
   ],
   "source": [
    "#distance of Shooting Three document with Shooting One\n",
    "s1_distance"
   ]
  },
  {
   "cell_type": "code",
   "execution_count": 26,
   "metadata": {},
   "outputs": [
    {
     "data": {
      "text/plain": [
       "31.98300000937539"
      ]
     },
     "execution_count": 26,
     "metadata": {},
     "output_type": "execute_result"
    }
   ],
   "source": [
    "#distance of Shooting Three document with Shooting Two\n",
    "s2_distance"
   ]
  },
  {
   "cell_type": "markdown",
   "metadata": {},
   "source": [
    "# Conclusion \n",
    "\n",
    "    We Can see that 1-nearest neighbour of test document \"Shooting Three\" is \"Shooting Two\" document and\n",
    "    2-nearest neighbour of test document \"Shooting Three\" is \"Shooting Two\" document and \"Shooting One\"\n",
    "    document. Thus, we can form the following two clusters:-\n",
    "    \n",
    "    Cluster One = ['Politics One', 'Politics Two'] \n",
    "    \n",
    "    Cluter Two =  ['Shooting One', 'Shooting Two', 'Shooting Three']\n",
    "    \n"
   ]
  }
 ],
 "metadata": {
  "kernelspec": {
   "display_name": "Python 3",
   "language": "python",
   "name": "python3"
  },
  "language_info": {
   "codemirror_mode": {
    "name": "ipython",
    "version": 3
   },
   "file_extension": ".py",
   "mimetype": "text/x-python",
   "name": "python",
   "nbconvert_exporter": "python",
   "pygments_lexer": "ipython3",
   "version": "3.6.8"
  }
 },
 "nbformat": 4,
 "nbformat_minor": 2
}
